{
 "cells": [
  {
   "cell_type": "markdown",
   "id": "6c451b34",
   "metadata": {},
   "source": [
    "# DONE_PYTOOLS"
   ]
  },
  {
   "cell_type": "markdown",
   "id": "61e75f58",
   "metadata": {},
   "source": [
    "## O que é?\n",
    "\n",
    "**DONE_PYTOOLS** é uma ferramenta desenvolvida para auxiliar na conversão entre **robôs Python da plataforma D1** e scripts Python convencionais (formato `.ipynb` ou `.py`).\n",
    "\n",
    "## Como funciona a conversão?\n",
    "\n",
    "Ao exportar um robô Python da plataforma D1, o arquivo gerado é um `.json`. Para facilitar o desenvolvimento, testes e leitura, esse arquivo precisa ser convertido para o formato `.ipynb` (Jupyter Notebook), que também é um `.json`, porém com estrutura distinta.\n",
    "\n",
    "O processo reverso também é possível: converter de `.ipynb` para o formato compatível com a D1.\n",
    "\n",
    "## Suporte\n",
    "\n",
    "Em caso de dúvidas, entre em contato pelo e-mail:\n",
    "\n",
    "📧 **diego.sousa@quality.com.br**\n",
    "\n",
    "Responderemos o mais breve possível.\n",
    "\n",
    "### Disclaimer\n",
    "A conversão não abrange as variáveis (parâmetros) do robô Python, sendo necessária a declaração manual."
   ]
  },
  {
   "cell_type": "markdown",
   "id": "cb22fcdf",
   "metadata": {},
   "source": [
    "# Bibliotecas presentes no D1"
   ]
  },
  {
   "cell_type": "markdown",
   "id": "05ea7f19",
   "metadata": {},
   "source": [
    "<table id=\"21fb8813-98f7-80eb-829f-f0a983c2c887\" class=\"simple-table\">\n",
    "    <thead class=\"simple-table-header\">\n",
    "        <tr id=\"21fb8813-98f7-802c-a905-c6cc7eefcb5d\">\n",
    "            <th id=\"FBbk\" class=\"simple-table-header-color simple-table-header\">Categoria</th>\n",
    "            <th id=\"N?kk\" class=\"simple-table-header-color simple-table-header\" style=\"width:726px\">Pacotes</th>\n",
    "        </tr>\n",
    "    </thead>\n",
    "    <tbody>\n",
    "        <tr id=\"21fb8813-98f7-8054-bfd2-d3790e6e4b56\">\n",
    "            <th id=\"FBbk\" class=\"simple-table-header-color simple-table-header\">Core Infra</th>\n",
    "            <td id=\"N?kk\" class=\"\" style=\"width:726px\"><code>pip</code>,\n",
    "                    <code>setuptools</code> , \n",
    "                    <code>wheel</code></mark></td>\n",
    "        </tr>\n",
    "        <tr id=\"21fb8813-98f7-807e-87cc-db40342885f7\">\n",
    "            <th id=\"FBbk\" class=\"simple-table-header-color simple-table-header\">Manipulação de Dados</th>\n",
    "            <td id=\"N?kk\" class=\"\" style=\"width:726px\"><code>pandas</code>\n",
    "                    <code>numpy</code>\n",
    "                    <code>openpyxl</code>\n",
    "                    , \n",
    "                    <code>python-dateutil</code> ,\n",
    "                 <code>pytz</code> , \n",
    "                    <code>tzdata</code> , \n",
    "                    <code>et_xmlfile</code></mark></td>\n",
    "        </tr>\n",
    "        <tr id=\"21fb8813-98f7-809d-b4dd-fc52b16fc73c\">\n",
    "            <th id=\"FBbk\" class=\"simple-table-header-color simple-table-header\">Web e API Clients</th>\n",
    "            <td id=\"N?kk\" class=\"\" style=\"width:726px\"><code>requests</code>\n",
    "                    <code>requests-file</code>\n",
    "                    , \n",
    "                    <code>requests-oauthlib</code> ,\n",
    "                 <code>requests-toolbelt</code> ,\n",
    "                 <code>simple-salesforce</code> ,\n",
    "                 <code>boxsdk</code> ,\n",
    "                 <code>zeep</code> , \n",
    "                    <code>jira</code> , \n",
    "                    <code>oauthlib</code> , \n",
    "                    <code>isodate</code></mark></td>\n",
    "        </tr>\n",
    "        <tr id=\"21fb8813-98f7-8048-b092-fd15c1f418f1\">\n",
    "            <th id=\"FBbk\" class=\"simple-table-header-color simple-table-header\">Segurança / Criptografia</th>\n",
    "            <td id=\"N?kk\" class=\"\" style=\"width:726px\">\n",
    "                    <code>cryptography</code> , \n",
    "                    <code>pycparser</code> , \n",
    "                    <code>cffi</code> , \n",
    "                    <code>PyJWT</code></mark></td>\n",
    "        </tr>\n",
    "        <tr id=\"21fb8813-98f7-80ec-ad1b-f8e72a4f9fc6\">\n",
    "            <th id=\"FBbk\" class=\"simple-table-header-color simple-table-header\">Parsing / Compatibilidade</th>\n",
    "            <td id=\"N?kk\" class=\"\" style=\"width:726px\"><code>attrs</code>\n",
    "                    , \n",
    "                    <code>charset-normalizer</code> ,\n",
    "                 <code>idna</code> , \n",
    "                    <code>six</code> , \n",
    "                    <code>packaging</code> , \n",
    "                    <code>typing_extensions</code> ,\n",
    "                 <code>hcl</code></mark></td>\n",
    "        </tr>\n",
    "        <tr id=\"21fb8813-98f7-80b1-9afc-cc0066ea6566\">\n",
    "            <th id=\"FBbk\" class=\"simple-table-header-color simple-table-header\">Dev Tools / IDE</th>\n",
    "            <td id=\"N?kk\" class=\"\" style=\"width:726px\"><code>ipython</code>,<code>ipykernel</code>,\n",
    "                <code>jupyter_client</code>\n",
    "                <code>jupyter_core</code>\n",
    "                <code>debugpy</code>\n",
    "                <code>traitlets</code>\n",
    "                <code>parso</code>\n",
    "                <code>jedi</code>\n",
    "                <code>nest-asyncio</code>\n",
    "                <code>pexpect</code>\n",
    "                <code>ptyprocess</code>\n",
    "                <code>prompt_toolkit</code>\n",
    "                <code>platformdirs</code>\n",
    "                <code>decorator</code>\n",
    "                <code>comm</code>\n",
    "                <code>stack-data</code>\n",
    "                <code>pure_eval</code>\n",
    "                <code>asttokens</code>\n",
    "                <code>executing</code></td>\n",
    "        </tr>\n",
    "        <tr id=\"21fb8813-98f7-8085-b026-ca6f2cd7cab4\">\n",
    "            <th id=\"FBbk\" class=\"simple-table-header-color simple-table-header\">Gráficos e Visualização</th>\n",
    "            <td id=\"N?kk\" class=\"\" style=\"width:726px\"><code>pillow</code>\n",
    "                    <code>Pygments</code>\n",
    "                    , \n",
    "                    <code>matplotlib-inline</code> ,\n",
    "                 <code>ipython_pygments_lexers</code></mark></td>\n",
    "        </tr>\n",
    "        <tr id=\"21fb8813-98f7-80cf-851a-edc2bdb5e82d\">\n",
    "            <th id=\"FBbk\" class=\"simple-table-header-color simple-table-header\">Web Templating</th>\n",
    "            <td id=\"N?kk\" class=\"\" style=\"width:726px\"><code>Jinja2</code>\n",
    "                    <code>MarkupSafe</code></mark></td>\n",
    "        </tr>\n",
    "        <tr id=\"21fb8813-98f7-80d7-8ede-cf5296c62778\">\n",
    "            <th id=\"FBbk\" class=\"simple-table-header-color simple-table-header\">Outros</th>\n",
    "            <td id=\"N?kk\" class=\"\" style=\"width:726px\"><code>psutil</code>\n",
    "                    <code>tornado</code>\n",
    "                    <code>more-itertools</code>\n",
    "                    <code>pendulum</code>\n",
    "                    <code>lxml</code>\n",
    "                    <code>defusedxml</code>\n",
    "                    <code>wcwidth</code></mark></td>\n",
    "        </tr>\n",
    "    </tbody>\n",
    "</table>"
   ]
  },
  {
   "cell_type": "markdown",
   "id": "8ee3b391",
   "metadata": {},
   "source": [
    "## Boas práticas"
   ]
  },
  {
   "cell_type": "markdown",
   "id": "8af2302b",
   "metadata": {},
   "source": [
    "### Verificação do ambiente"
   ]
  },
  {
   "cell_type": "markdown",
   "id": "b0ba67dd",
   "metadata": {},
   "source": [
    "```py \n",
    "try:\n",
    "    hcl.system_variable[\"organization_id\"]\n",
    "    LOCAL = False\n",
    "except:\n",
    "    LOCAL = True\n",
    "```"
   ]
  },
  {
   "cell_type": "markdown",
   "id": "07e30f36",
   "metadata": {},
   "source": [
    "Esse código detecta se o script está rodando localmente ou na nuvem Highbound. Ele tenta acessar uma variável do `hcl`, que só existe nos robôs Highbound. Se der erro, define `LOCAL = True`, indicando que está fora da nuvem. Isso permite adaptar o comportamento do código conforme o ambiente."
   ]
  },
  {
   "cell_type": "markdown",
   "id": "1c850800",
   "metadata": {},
   "source": [
    "### Importação de arquivos"
   ]
  },
  {
   "cell_type": "markdown",
   "id": "9f71698c",
   "metadata": {},
   "source": [
    "A importação é simples: basta utilizar `hcl.load_working_file()` quando não estiver em ambiente local, seguido da importação convencional."
   ]
  },
  {
   "cell_type": "markdown",
   "id": "b5f71667",
   "metadata": {},
   "source": [
    "```py\n",
    "import pandas as pd\n",
    "\n",
    "if not LOCAL:\n",
    "    hcl.load_working_file(\"requirements.txt\")\n",
    "    hcl.load_working_file(\"RazaoContabil.xlsx\")\n",
    "    hcl.load_working_file(\"LancamentosContabeis.xlsx\")\n",
    "    hcl.load_working_file(\"PlanoDeContas.xlsx\")\n",
    "\n",
    "df_RazaoContabil = pd.read_excel(\"RazaoContabil\", sheet_name=\"Plan1\")\n",
    "df_LancamentosContabeis = pd.read_excel(\"LancamentosContabeis\", sheet_name=\"Plan1\")\n",
    "df_PlanoDeContas = pd.read_excel(\"PlanoDeContas\", sheet_name=\"Plan1\")\n",
    "```"
   ]
  },
  {
   "cell_type": "markdown",
   "id": "07315d5a",
   "metadata": {},
   "source": [
    "### Importação de bibliotecas\n",
    "\n",
    "Se não estiver em ambiente local, há duas abordagens viáveis: a primeira é instalar os pacotes diretamente via uma lista no próprio código, usando `subprocess` com `pip install`. Essa abordagem é útil para scripts simples ou dinâmicos, mas pouco escalável. A segunda é mais adequada para projetos maiores, usar um `requirements.txt` e instalar todas as dependências com `pip install -r requirements.txt`."
   ]
  },
  {
   "cell_type": "markdown",
   "id": "9af05a43",
   "metadata": {},
   "source": [
    "1. Primeira abordagem - Hardcoding"
   ]
  },
  {
   "cell_type": "markdown",
   "id": "624da822",
   "metadata": {},
   "source": [
    "```py\n",
    "if not LOCAL:\n",
    "    import subprocess\n",
    "    import sys\n",
    "\n",
    "    modulos = [\"scikit_learn\"]\n",
    "    subprocess.check_call([sys.executable, \"-m\", \"pip\", \"install\", *modulos])\n",
    "\n",
    "    #Adicionar todos módulos manualmente\n",
    "    import sklearn"
   ]
  },
  {
   "cell_type": "markdown",
   "id": "93b0340c",
   "metadata": {},
   "source": [
    "2. Segunda abordagem - requirements.txt"
   ]
  },
  {
   "cell_type": "markdown",
   "id": "1007147b",
   "metadata": {},
   "source": [
    "```py\n",
    "if not LOCAL:\n",
    "    import subprocess\n",
    "    import sys\n",
    "\n",
    "    hcl.load_working_file(\"requirements.txt\")\n",
    "    subprocess.check_call([sys.executable, \"-r\", \"pip\", \"install\", \"-r\", \"requirements.txt\"])\n",
    "\n",
    "    #Adicionar todos módulos manualmente\n",
    "    import sklearn"
   ]
  }
 ],
 "metadata": {
  "kernelspec": {
   "display_name": "Python 3",
   "language": "python",
   "name": "python3"
  },
  "language_info": {
   "codemirror_mode": {
    "name": "ipython",
    "version": 3
   },
   "file_extension": ".py",
   "mimetype": "text/x-python",
   "name": "python",
   "nbconvert_exporter": "python",
   "pygments_lexer": "ipython3",
   "version": "3.13.5"
  }
 },
 "nbformat": 4,
 "nbformat_minor": 5
}
